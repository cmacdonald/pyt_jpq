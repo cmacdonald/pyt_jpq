{
  "nbformat": 4,
  "nbformat_minor": 0,
  "metadata": {
    "colab": {
      "name": "pyt_jpq msmarco-passage existing index.ipynb",
      "provenance": [],
      "collapsed_sections": []
    },
    "kernelspec": {
      "name": "python3",
      "display_name": "Python 3"
    },
    "language_info": {
      "name": "python"
    },
    "accelerator": "GPU",
    "widgets": {
      "application/vnd.jupyter.widget-state+json": {
        "0b314c6bde62483baa404156f341b42b": {
          "model_module": "@jupyter-widgets/controls",
          "model_name": "HBoxModel",
          "model_module_version": "1.5.0",
          "state": {
            "_view_name": "HBoxView",
            "_dom_classes": [],
            "_model_name": "HBoxModel",
            "_view_module": "@jupyter-widgets/controls",
            "_model_module_version": "1.5.0",
            "_view_count": null,
            "_view_module_version": "1.5.0",
            "box_style": "",
            "layout": "IPY_MODEL_900e036cff1b44ed81a40d4c530887e1",
            "_model_module": "@jupyter-widgets/controls",
            "children": [
              "IPY_MODEL_8c8c5bde8bef4ef989385ad1dd67871c",
              "IPY_MODEL_514a1bfc0f274e088f7e6cde9991369d",
              "IPY_MODEL_63bdf7080b6e4384b61b19dc44fe4b48"
            ]
          }
        },
        "900e036cff1b44ed81a40d4c530887e1": {
          "model_module": "@jupyter-widgets/base",
          "model_name": "LayoutModel",
          "model_module_version": "1.2.0",
          "state": {
            "_view_name": "LayoutView",
            "grid_template_rows": null,
            "right": null,
            "justify_content": null,
            "_view_module": "@jupyter-widgets/base",
            "overflow": null,
            "_model_module_version": "1.2.0",
            "_view_count": null,
            "flex_flow": null,
            "width": null,
            "min_width": null,
            "border": null,
            "align_items": null,
            "bottom": null,
            "_model_module": "@jupyter-widgets/base",
            "top": null,
            "grid_column": null,
            "overflow_y": null,
            "overflow_x": null,
            "grid_auto_flow": null,
            "grid_area": null,
            "grid_template_columns": null,
            "flex": null,
            "_model_name": "LayoutModel",
            "justify_items": null,
            "grid_row": null,
            "max_height": null,
            "align_content": null,
            "visibility": null,
            "align_self": null,
            "height": null,
            "min_height": null,
            "padding": null,
            "grid_auto_rows": null,
            "grid_gap": null,
            "max_width": null,
            "order": null,
            "_view_module_version": "1.2.0",
            "grid_template_areas": null,
            "object_position": null,
            "object_fit": null,
            "grid_auto_columns": null,
            "margin": null,
            "display": null,
            "left": null
          }
        },
        "8c8c5bde8bef4ef989385ad1dd67871c": {
          "model_module": "@jupyter-widgets/controls",
          "model_name": "HTMLModel",
          "model_module_version": "1.5.0",
          "state": {
            "_view_name": "HTMLView",
            "style": "IPY_MODEL_1245703937de45f48e502fc8d6318581",
            "_dom_classes": [],
            "description": "",
            "_model_name": "HTMLModel",
            "placeholder": "​",
            "_view_module": "@jupyter-widgets/controls",
            "_model_module_version": "1.5.0",
            "value": "Downloading: 100%",
            "_view_count": null,
            "_view_module_version": "1.5.0",
            "description_tooltip": null,
            "_model_module": "@jupyter-widgets/controls",
            "layout": "IPY_MODEL_3637004fe92641c0a7582a1bfd2584fe"
          }
        },
        "514a1bfc0f274e088f7e6cde9991369d": {
          "model_module": "@jupyter-widgets/controls",
          "model_name": "FloatProgressModel",
          "model_module_version": "1.5.0",
          "state": {
            "_view_name": "ProgressView",
            "style": "IPY_MODEL_9b8350c1cfe3423bb3ae7978c03f1d8d",
            "_dom_classes": [],
            "description": "",
            "_model_name": "FloatProgressModel",
            "bar_style": "success",
            "max": 898823,
            "_view_module": "@jupyter-widgets/controls",
            "_model_module_version": "1.5.0",
            "value": 898823,
            "_view_count": null,
            "_view_module_version": "1.5.0",
            "orientation": "horizontal",
            "min": 0,
            "description_tooltip": null,
            "_model_module": "@jupyter-widgets/controls",
            "layout": "IPY_MODEL_86488454fd6d4895aaf923b6ff494d6c"
          }
        },
        "63bdf7080b6e4384b61b19dc44fe4b48": {
          "model_module": "@jupyter-widgets/controls",
          "model_name": "HTMLModel",
          "model_module_version": "1.5.0",
          "state": {
            "_view_name": "HTMLView",
            "style": "IPY_MODEL_5414900f6a9c4bb98719300c2f53953b",
            "_dom_classes": [],
            "description": "",
            "_model_name": "HTMLModel",
            "placeholder": "​",
            "_view_module": "@jupyter-widgets/controls",
            "_model_module_version": "1.5.0",
            "value": " 899k/899k [00:00&lt;00:00, 1.05MB/s]",
            "_view_count": null,
            "_view_module_version": "1.5.0",
            "description_tooltip": null,
            "_model_module": "@jupyter-widgets/controls",
            "layout": "IPY_MODEL_030118f7b7214035b9170c2e4d66b94f"
          }
        },
        "1245703937de45f48e502fc8d6318581": {
          "model_module": "@jupyter-widgets/controls",
          "model_name": "DescriptionStyleModel",
          "model_module_version": "1.5.0",
          "state": {
            "_view_name": "StyleView",
            "_model_name": "DescriptionStyleModel",
            "description_width": "",
            "_view_module": "@jupyter-widgets/base",
            "_model_module_version": "1.5.0",
            "_view_count": null,
            "_view_module_version": "1.2.0",
            "_model_module": "@jupyter-widgets/controls"
          }
        },
        "3637004fe92641c0a7582a1bfd2584fe": {
          "model_module": "@jupyter-widgets/base",
          "model_name": "LayoutModel",
          "model_module_version": "1.2.0",
          "state": {
            "_view_name": "LayoutView",
            "grid_template_rows": null,
            "right": null,
            "justify_content": null,
            "_view_module": "@jupyter-widgets/base",
            "overflow": null,
            "_model_module_version": "1.2.0",
            "_view_count": null,
            "flex_flow": null,
            "width": null,
            "min_width": null,
            "border": null,
            "align_items": null,
            "bottom": null,
            "_model_module": "@jupyter-widgets/base",
            "top": null,
            "grid_column": null,
            "overflow_y": null,
            "overflow_x": null,
            "grid_auto_flow": null,
            "grid_area": null,
            "grid_template_columns": null,
            "flex": null,
            "_model_name": "LayoutModel",
            "justify_items": null,
            "grid_row": null,
            "max_height": null,
            "align_content": null,
            "visibility": null,
            "align_self": null,
            "height": null,
            "min_height": null,
            "padding": null,
            "grid_auto_rows": null,
            "grid_gap": null,
            "max_width": null,
            "order": null,
            "_view_module_version": "1.2.0",
            "grid_template_areas": null,
            "object_position": null,
            "object_fit": null,
            "grid_auto_columns": null,
            "margin": null,
            "display": null,
            "left": null
          }
        },
        "9b8350c1cfe3423bb3ae7978c03f1d8d": {
          "model_module": "@jupyter-widgets/controls",
          "model_name": "ProgressStyleModel",
          "model_module_version": "1.5.0",
          "state": {
            "_view_name": "StyleView",
            "_model_name": "ProgressStyleModel",
            "description_width": "",
            "_view_module": "@jupyter-widgets/base",
            "_model_module_version": "1.5.0",
            "_view_count": null,
            "_view_module_version": "1.2.0",
            "bar_color": null,
            "_model_module": "@jupyter-widgets/controls"
          }
        },
        "86488454fd6d4895aaf923b6ff494d6c": {
          "model_module": "@jupyter-widgets/base",
          "model_name": "LayoutModel",
          "model_module_version": "1.2.0",
          "state": {
            "_view_name": "LayoutView",
            "grid_template_rows": null,
            "right": null,
            "justify_content": null,
            "_view_module": "@jupyter-widgets/base",
            "overflow": null,
            "_model_module_version": "1.2.0",
            "_view_count": null,
            "flex_flow": null,
            "width": null,
            "min_width": null,
            "border": null,
            "align_items": null,
            "bottom": null,
            "_model_module": "@jupyter-widgets/base",
            "top": null,
            "grid_column": null,
            "overflow_y": null,
            "overflow_x": null,
            "grid_auto_flow": null,
            "grid_area": null,
            "grid_template_columns": null,
            "flex": null,
            "_model_name": "LayoutModel",
            "justify_items": null,
            "grid_row": null,
            "max_height": null,
            "align_content": null,
            "visibility": null,
            "align_self": null,
            "height": null,
            "min_height": null,
            "padding": null,
            "grid_auto_rows": null,
            "grid_gap": null,
            "max_width": null,
            "order": null,
            "_view_module_version": "1.2.0",
            "grid_template_areas": null,
            "object_position": null,
            "object_fit": null,
            "grid_auto_columns": null,
            "margin": null,
            "display": null,
            "left": null
          }
        },
        "5414900f6a9c4bb98719300c2f53953b": {
          "model_module": "@jupyter-widgets/controls",
          "model_name": "DescriptionStyleModel",
          "model_module_version": "1.5.0",
          "state": {
            "_view_name": "StyleView",
            "_model_name": "DescriptionStyleModel",
            "description_width": "",
            "_view_module": "@jupyter-widgets/base",
            "_model_module_version": "1.5.0",
            "_view_count": null,
            "_view_module_version": "1.2.0",
            "_model_module": "@jupyter-widgets/controls"
          }
        },
        "030118f7b7214035b9170c2e4d66b94f": {
          "model_module": "@jupyter-widgets/base",
          "model_name": "LayoutModel",
          "model_module_version": "1.2.0",
          "state": {
            "_view_name": "LayoutView",
            "grid_template_rows": null,
            "right": null,
            "justify_content": null,
            "_view_module": "@jupyter-widgets/base",
            "overflow": null,
            "_model_module_version": "1.2.0",
            "_view_count": null,
            "flex_flow": null,
            "width": null,
            "min_width": null,
            "border": null,
            "align_items": null,
            "bottom": null,
            "_model_module": "@jupyter-widgets/base",
            "top": null,
            "grid_column": null,
            "overflow_y": null,
            "overflow_x": null,
            "grid_auto_flow": null,
            "grid_area": null,
            "grid_template_columns": null,
            "flex": null,
            "_model_name": "LayoutModel",
            "justify_items": null,
            "grid_row": null,
            "max_height": null,
            "align_content": null,
            "visibility": null,
            "align_self": null,
            "height": null,
            "min_height": null,
            "padding": null,
            "grid_auto_rows": null,
            "grid_gap": null,
            "max_width": null,
            "order": null,
            "_view_module_version": "1.2.0",
            "grid_template_areas": null,
            "object_position": null,
            "object_fit": null,
            "grid_auto_columns": null,
            "margin": null,
            "display": null,
            "left": null
          }
        },
        "2bdbeca50477470e992c0e9975874a54": {
          "model_module": "@jupyter-widgets/controls",
          "model_name": "HBoxModel",
          "model_module_version": "1.5.0",
          "state": {
            "_view_name": "HBoxView",
            "_dom_classes": [],
            "_model_name": "HBoxModel",
            "_view_module": "@jupyter-widgets/controls",
            "_model_module_version": "1.5.0",
            "_view_count": null,
            "_view_module_version": "1.5.0",
            "box_style": "",
            "layout": "IPY_MODEL_4e2f6a81c6994caf8978c1d375192aa3",
            "_model_module": "@jupyter-widgets/controls",
            "children": [
              "IPY_MODEL_8b1a13ef85674c4a8f7adf9699a2f9a3",
              "IPY_MODEL_6d848ff341fa4daf8116f1d69ad6c1b9",
              "IPY_MODEL_aa77c9b0b2754bd2bf733f4b6c94631f"
            ]
          }
        },
        "4e2f6a81c6994caf8978c1d375192aa3": {
          "model_module": "@jupyter-widgets/base",
          "model_name": "LayoutModel",
          "model_module_version": "1.2.0",
          "state": {
            "_view_name": "LayoutView",
            "grid_template_rows": null,
            "right": null,
            "justify_content": null,
            "_view_module": "@jupyter-widgets/base",
            "overflow": null,
            "_model_module_version": "1.2.0",
            "_view_count": null,
            "flex_flow": null,
            "width": null,
            "min_width": null,
            "border": null,
            "align_items": null,
            "bottom": null,
            "_model_module": "@jupyter-widgets/base",
            "top": null,
            "grid_column": null,
            "overflow_y": null,
            "overflow_x": null,
            "grid_auto_flow": null,
            "grid_area": null,
            "grid_template_columns": null,
            "flex": null,
            "_model_name": "LayoutModel",
            "justify_items": null,
            "grid_row": null,
            "max_height": null,
            "align_content": null,
            "visibility": null,
            "align_self": null,
            "height": null,
            "min_height": null,
            "padding": null,
            "grid_auto_rows": null,
            "grid_gap": null,
            "max_width": null,
            "order": null,
            "_view_module_version": "1.2.0",
            "grid_template_areas": null,
            "object_position": null,
            "object_fit": null,
            "grid_auto_columns": null,
            "margin": null,
            "display": null,
            "left": null
          }
        },
        "8b1a13ef85674c4a8f7adf9699a2f9a3": {
          "model_module": "@jupyter-widgets/controls",
          "model_name": "HTMLModel",
          "model_module_version": "1.5.0",
          "state": {
            "_view_name": "HTMLView",
            "style": "IPY_MODEL_1dec0d841dff44939ae3850c7f62f301",
            "_dom_classes": [],
            "description": "",
            "_model_name": "HTMLModel",
            "placeholder": "​",
            "_view_module": "@jupyter-widgets/controls",
            "_model_module_version": "1.5.0",
            "value": "Downloading: 100%",
            "_view_count": null,
            "_view_module_version": "1.5.0",
            "description_tooltip": null,
            "_model_module": "@jupyter-widgets/controls",
            "layout": "IPY_MODEL_bcca2435fb3a4723969f1237f41134a0"
          }
        },
        "6d848ff341fa4daf8116f1d69ad6c1b9": {
          "model_module": "@jupyter-widgets/controls",
          "model_name": "FloatProgressModel",
          "model_module_version": "1.5.0",
          "state": {
            "_view_name": "ProgressView",
            "style": "IPY_MODEL_58c8d2ea34fd44dbaaf57ab8dd9e30c9",
            "_dom_classes": [],
            "description": "",
            "_model_name": "FloatProgressModel",
            "bar_style": "success",
            "max": 456318,
            "_view_module": "@jupyter-widgets/controls",
            "_model_module_version": "1.5.0",
            "value": 456318,
            "_view_count": null,
            "_view_module_version": "1.5.0",
            "orientation": "horizontal",
            "min": 0,
            "description_tooltip": null,
            "_model_module": "@jupyter-widgets/controls",
            "layout": "IPY_MODEL_1dc55ffce5d14047b1700863f76e81cc"
          }
        },
        "aa77c9b0b2754bd2bf733f4b6c94631f": {
          "model_module": "@jupyter-widgets/controls",
          "model_name": "HTMLModel",
          "model_module_version": "1.5.0",
          "state": {
            "_view_name": "HTMLView",
            "style": "IPY_MODEL_78a4da5f02364be4aec150afd5611e24",
            "_dom_classes": [],
            "description": "",
            "_model_name": "HTMLModel",
            "placeholder": "​",
            "_view_module": "@jupyter-widgets/controls",
            "_model_module_version": "1.5.0",
            "value": " 456k/456k [00:00&lt;00:00, 1.54MB/s]",
            "_view_count": null,
            "_view_module_version": "1.5.0",
            "description_tooltip": null,
            "_model_module": "@jupyter-widgets/controls",
            "layout": "IPY_MODEL_b5f643ff64b7419288dbd7c755aeffcb"
          }
        },
        "1dec0d841dff44939ae3850c7f62f301": {
          "model_module": "@jupyter-widgets/controls",
          "model_name": "DescriptionStyleModel",
          "model_module_version": "1.5.0",
          "state": {
            "_view_name": "StyleView",
            "_model_name": "DescriptionStyleModel",
            "description_width": "",
            "_view_module": "@jupyter-widgets/base",
            "_model_module_version": "1.5.0",
            "_view_count": null,
            "_view_module_version": "1.2.0",
            "_model_module": "@jupyter-widgets/controls"
          }
        },
        "bcca2435fb3a4723969f1237f41134a0": {
          "model_module": "@jupyter-widgets/base",
          "model_name": "LayoutModel",
          "model_module_version": "1.2.0",
          "state": {
            "_view_name": "LayoutView",
            "grid_template_rows": null,
            "right": null,
            "justify_content": null,
            "_view_module": "@jupyter-widgets/base",
            "overflow": null,
            "_model_module_version": "1.2.0",
            "_view_count": null,
            "flex_flow": null,
            "width": null,
            "min_width": null,
            "border": null,
            "align_items": null,
            "bottom": null,
            "_model_module": "@jupyter-widgets/base",
            "top": null,
            "grid_column": null,
            "overflow_y": null,
            "overflow_x": null,
            "grid_auto_flow": null,
            "grid_area": null,
            "grid_template_columns": null,
            "flex": null,
            "_model_name": "LayoutModel",
            "justify_items": null,
            "grid_row": null,
            "max_height": null,
            "align_content": null,
            "visibility": null,
            "align_self": null,
            "height": null,
            "min_height": null,
            "padding": null,
            "grid_auto_rows": null,
            "grid_gap": null,
            "max_width": null,
            "order": null,
            "_view_module_version": "1.2.0",
            "grid_template_areas": null,
            "object_position": null,
            "object_fit": null,
            "grid_auto_columns": null,
            "margin": null,
            "display": null,
            "left": null
          }
        },
        "58c8d2ea34fd44dbaaf57ab8dd9e30c9": {
          "model_module": "@jupyter-widgets/controls",
          "model_name": "ProgressStyleModel",
          "model_module_version": "1.5.0",
          "state": {
            "_view_name": "StyleView",
            "_model_name": "ProgressStyleModel",
            "description_width": "",
            "_view_module": "@jupyter-widgets/base",
            "_model_module_version": "1.5.0",
            "_view_count": null,
            "_view_module_version": "1.2.0",
            "bar_color": null,
            "_model_module": "@jupyter-widgets/controls"
          }
        },
        "1dc55ffce5d14047b1700863f76e81cc": {
          "model_module": "@jupyter-widgets/base",
          "model_name": "LayoutModel",
          "model_module_version": "1.2.0",
          "state": {
            "_view_name": "LayoutView",
            "grid_template_rows": null,
            "right": null,
            "justify_content": null,
            "_view_module": "@jupyter-widgets/base",
            "overflow": null,
            "_model_module_version": "1.2.0",
            "_view_count": null,
            "flex_flow": null,
            "width": null,
            "min_width": null,
            "border": null,
            "align_items": null,
            "bottom": null,
            "_model_module": "@jupyter-widgets/base",
            "top": null,
            "grid_column": null,
            "overflow_y": null,
            "overflow_x": null,
            "grid_auto_flow": null,
            "grid_area": null,
            "grid_template_columns": null,
            "flex": null,
            "_model_name": "LayoutModel",
            "justify_items": null,
            "grid_row": null,
            "max_height": null,
            "align_content": null,
            "visibility": null,
            "align_self": null,
            "height": null,
            "min_height": null,
            "padding": null,
            "grid_auto_rows": null,
            "grid_gap": null,
            "max_width": null,
            "order": null,
            "_view_module_version": "1.2.0",
            "grid_template_areas": null,
            "object_position": null,
            "object_fit": null,
            "grid_auto_columns": null,
            "margin": null,
            "display": null,
            "left": null
          }
        },
        "78a4da5f02364be4aec150afd5611e24": {
          "model_module": "@jupyter-widgets/controls",
          "model_name": "DescriptionStyleModel",
          "model_module_version": "1.5.0",
          "state": {
            "_view_name": "StyleView",
            "_model_name": "DescriptionStyleModel",
            "description_width": "",
            "_view_module": "@jupyter-widgets/base",
            "_model_module_version": "1.5.0",
            "_view_count": null,
            "_view_module_version": "1.2.0",
            "_model_module": "@jupyter-widgets/controls"
          }
        },
        "b5f643ff64b7419288dbd7c755aeffcb": {
          "model_module": "@jupyter-widgets/base",
          "model_name": "LayoutModel",
          "model_module_version": "1.2.0",
          "state": {
            "_view_name": "LayoutView",
            "grid_template_rows": null,
            "right": null,
            "justify_content": null,
            "_view_module": "@jupyter-widgets/base",
            "overflow": null,
            "_model_module_version": "1.2.0",
            "_view_count": null,
            "flex_flow": null,
            "width": null,
            "min_width": null,
            "border": null,
            "align_items": null,
            "bottom": null,
            "_model_module": "@jupyter-widgets/base",
            "top": null,
            "grid_column": null,
            "overflow_y": null,
            "overflow_x": null,
            "grid_auto_flow": null,
            "grid_area": null,
            "grid_template_columns": null,
            "flex": null,
            "_model_name": "LayoutModel",
            "justify_items": null,
            "grid_row": null,
            "max_height": null,
            "align_content": null,
            "visibility": null,
            "align_self": null,
            "height": null,
            "min_height": null,
            "padding": null,
            "grid_auto_rows": null,
            "grid_gap": null,
            "max_width": null,
            "order": null,
            "_view_module_version": "1.2.0",
            "grid_template_areas": null,
            "object_position": null,
            "object_fit": null,
            "grid_auto_columns": null,
            "margin": null,
            "display": null,
            "left": null
          }
        },
        "f49b9955574846379a69443ccf285908": {
          "model_module": "@jupyter-widgets/controls",
          "model_name": "HBoxModel",
          "model_module_version": "1.5.0",
          "state": {
            "_view_name": "HBoxView",
            "_dom_classes": [],
            "_model_name": "HBoxModel",
            "_view_module": "@jupyter-widgets/controls",
            "_model_module_version": "1.5.0",
            "_view_count": null,
            "_view_module_version": "1.5.0",
            "box_style": "",
            "layout": "IPY_MODEL_8757efe09ee04f8ebbdb7bd2192500da",
            "_model_module": "@jupyter-widgets/controls",
            "children": [
              "IPY_MODEL_3b4ce64fef2649f1b715ee79104efa7f",
              "IPY_MODEL_14c72d2e543a423c9e7cccb404caba39",
              "IPY_MODEL_8f7536ad8416425d8d77e683c8e05ef8"
            ]
          }
        },
        "8757efe09ee04f8ebbdb7bd2192500da": {
          "model_module": "@jupyter-widgets/base",
          "model_name": "LayoutModel",
          "model_module_version": "1.2.0",
          "state": {
            "_view_name": "LayoutView",
            "grid_template_rows": null,
            "right": null,
            "justify_content": null,
            "_view_module": "@jupyter-widgets/base",
            "overflow": null,
            "_model_module_version": "1.2.0",
            "_view_count": null,
            "flex_flow": null,
            "width": null,
            "min_width": null,
            "border": null,
            "align_items": null,
            "bottom": null,
            "_model_module": "@jupyter-widgets/base",
            "top": null,
            "grid_column": null,
            "overflow_y": null,
            "overflow_x": null,
            "grid_auto_flow": null,
            "grid_area": null,
            "grid_template_columns": null,
            "flex": null,
            "_model_name": "LayoutModel",
            "justify_items": null,
            "grid_row": null,
            "max_height": null,
            "align_content": null,
            "visibility": null,
            "align_self": null,
            "height": null,
            "min_height": null,
            "padding": null,
            "grid_auto_rows": null,
            "grid_gap": null,
            "max_width": null,
            "order": null,
            "_view_module_version": "1.2.0",
            "grid_template_areas": null,
            "object_position": null,
            "object_fit": null,
            "grid_auto_columns": null,
            "margin": null,
            "display": null,
            "left": null
          }
        },
        "3b4ce64fef2649f1b715ee79104efa7f": {
          "model_module": "@jupyter-widgets/controls",
          "model_name": "HTMLModel",
          "model_module_version": "1.5.0",
          "state": {
            "_view_name": "HTMLView",
            "style": "IPY_MODEL_6c7e75b03b0845a5a2f9417357e790c6",
            "_dom_classes": [],
            "description": "",
            "_model_name": "HTMLModel",
            "placeholder": "​",
            "_view_module": "@jupyter-widgets/controls",
            "_model_module_version": "1.5.0",
            "value": "msmarco-test2019-queries.tsv.gz: 100%",
            "_view_count": null,
            "_view_module_version": "1.5.0",
            "description_tooltip": null,
            "_model_module": "@jupyter-widgets/controls",
            "layout": "IPY_MODEL_6c80286c0b274818a31225771a7e3bff"
          }
        },
        "14c72d2e543a423c9e7cccb404caba39": {
          "model_module": "@jupyter-widgets/controls",
          "model_name": "FloatProgressModel",
          "model_module_version": "1.5.0",
          "state": {
            "_view_name": "ProgressView",
            "style": "IPY_MODEL_1504230fce6344cf803e00d0358ed779",
            "_dom_classes": [],
            "description": "",
            "_model_name": "FloatProgressModel",
            "bar_style": "success",
            "max": 4276,
            "_view_module": "@jupyter-widgets/controls",
            "_model_module_version": "1.5.0",
            "value": 4276,
            "_view_count": null,
            "_view_module_version": "1.5.0",
            "orientation": "horizontal",
            "min": 0,
            "description_tooltip": null,
            "_model_module": "@jupyter-widgets/controls",
            "layout": "IPY_MODEL_79d3722d0f4146398cab9b8d5000a5d1"
          }
        },
        "8f7536ad8416425d8d77e683c8e05ef8": {
          "model_module": "@jupyter-widgets/controls",
          "model_name": "HTMLModel",
          "model_module_version": "1.5.0",
          "state": {
            "_view_name": "HTMLView",
            "style": "IPY_MODEL_4b8fb1519a4e4d458898aa75da3ae8d8",
            "_dom_classes": [],
            "description": "",
            "_model_name": "HTMLModel",
            "placeholder": "​",
            "_view_module": "@jupyter-widgets/controls",
            "_model_module_version": "1.5.0",
            "value": " 4.18k/4.18k [00:00&lt;00:00, 72.1kiB/s]",
            "_view_count": null,
            "_view_module_version": "1.5.0",
            "description_tooltip": null,
            "_model_module": "@jupyter-widgets/controls",
            "layout": "IPY_MODEL_6af2301a9c364f3eb50d9b6908a5f436"
          }
        },
        "6c7e75b03b0845a5a2f9417357e790c6": {
          "model_module": "@jupyter-widgets/controls",
          "model_name": "DescriptionStyleModel",
          "model_module_version": "1.5.0",
          "state": {
            "_view_name": "StyleView",
            "_model_name": "DescriptionStyleModel",
            "description_width": "",
            "_view_module": "@jupyter-widgets/base",
            "_model_module_version": "1.5.0",
            "_view_count": null,
            "_view_module_version": "1.2.0",
            "_model_module": "@jupyter-widgets/controls"
          }
        },
        "6c80286c0b274818a31225771a7e3bff": {
          "model_module": "@jupyter-widgets/base",
          "model_name": "LayoutModel",
          "model_module_version": "1.2.0",
          "state": {
            "_view_name": "LayoutView",
            "grid_template_rows": null,
            "right": null,
            "justify_content": null,
            "_view_module": "@jupyter-widgets/base",
            "overflow": null,
            "_model_module_version": "1.2.0",
            "_view_count": null,
            "flex_flow": null,
            "width": null,
            "min_width": null,
            "border": null,
            "align_items": null,
            "bottom": null,
            "_model_module": "@jupyter-widgets/base",
            "top": null,
            "grid_column": null,
            "overflow_y": null,
            "overflow_x": null,
            "grid_auto_flow": null,
            "grid_area": null,
            "grid_template_columns": null,
            "flex": null,
            "_model_name": "LayoutModel",
            "justify_items": null,
            "grid_row": null,
            "max_height": null,
            "align_content": null,
            "visibility": null,
            "align_self": null,
            "height": null,
            "min_height": null,
            "padding": null,
            "grid_auto_rows": null,
            "grid_gap": null,
            "max_width": null,
            "order": null,
            "_view_module_version": "1.2.0",
            "grid_template_areas": null,
            "object_position": null,
            "object_fit": null,
            "grid_auto_columns": null,
            "margin": null,
            "display": null,
            "left": null
          }
        },
        "1504230fce6344cf803e00d0358ed779": {
          "model_module": "@jupyter-widgets/controls",
          "model_name": "ProgressStyleModel",
          "model_module_version": "1.5.0",
          "state": {
            "_view_name": "StyleView",
            "_model_name": "ProgressStyleModel",
            "description_width": "",
            "_view_module": "@jupyter-widgets/base",
            "_model_module_version": "1.5.0",
            "_view_count": null,
            "_view_module_version": "1.2.0",
            "bar_color": null,
            "_model_module": "@jupyter-widgets/controls"
          }
        },
        "79d3722d0f4146398cab9b8d5000a5d1": {
          "model_module": "@jupyter-widgets/base",
          "model_name": "LayoutModel",
          "model_module_version": "1.2.0",
          "state": {
            "_view_name": "LayoutView",
            "grid_template_rows": null,
            "right": null,
            "justify_content": null,
            "_view_module": "@jupyter-widgets/base",
            "overflow": null,
            "_model_module_version": "1.2.0",
            "_view_count": null,
            "flex_flow": null,
            "width": null,
            "min_width": null,
            "border": null,
            "align_items": null,
            "bottom": null,
            "_model_module": "@jupyter-widgets/base",
            "top": null,
            "grid_column": null,
            "overflow_y": null,
            "overflow_x": null,
            "grid_auto_flow": null,
            "grid_area": null,
            "grid_template_columns": null,
            "flex": null,
            "_model_name": "LayoutModel",
            "justify_items": null,
            "grid_row": null,
            "max_height": null,
            "align_content": null,
            "visibility": null,
            "align_self": null,
            "height": null,
            "min_height": null,
            "padding": null,
            "grid_auto_rows": null,
            "grid_gap": null,
            "max_width": null,
            "order": null,
            "_view_module_version": "1.2.0",
            "grid_template_areas": null,
            "object_position": null,
            "object_fit": null,
            "grid_auto_columns": null,
            "margin": null,
            "display": null,
            "left": null
          }
        },
        "4b8fb1519a4e4d458898aa75da3ae8d8": {
          "model_module": "@jupyter-widgets/controls",
          "model_name": "DescriptionStyleModel",
          "model_module_version": "1.5.0",
          "state": {
            "_view_name": "StyleView",
            "_model_name": "DescriptionStyleModel",
            "description_width": "",
            "_view_module": "@jupyter-widgets/base",
            "_model_module_version": "1.5.0",
            "_view_count": null,
            "_view_module_version": "1.2.0",
            "_model_module": "@jupyter-widgets/controls"
          }
        },
        "6af2301a9c364f3eb50d9b6908a5f436": {
          "model_module": "@jupyter-widgets/base",
          "model_name": "LayoutModel",
          "model_module_version": "1.2.0",
          "state": {
            "_view_name": "LayoutView",
            "grid_template_rows": null,
            "right": null,
            "justify_content": null,
            "_view_module": "@jupyter-widgets/base",
            "overflow": null,
            "_model_module_version": "1.2.0",
            "_view_count": null,
            "flex_flow": null,
            "width": null,
            "min_width": null,
            "border": null,
            "align_items": null,
            "bottom": null,
            "_model_module": "@jupyter-widgets/base",
            "top": null,
            "grid_column": null,
            "overflow_y": null,
            "overflow_x": null,
            "grid_auto_flow": null,
            "grid_area": null,
            "grid_template_columns": null,
            "flex": null,
            "_model_name": "LayoutModel",
            "justify_items": null,
            "grid_row": null,
            "max_height": null,
            "align_content": null,
            "visibility": null,
            "align_self": null,
            "height": null,
            "min_height": null,
            "padding": null,
            "grid_auto_rows": null,
            "grid_gap": null,
            "max_width": null,
            "order": null,
            "_view_module_version": "1.2.0",
            "grid_template_areas": null,
            "object_position": null,
            "object_fit": null,
            "grid_auto_columns": null,
            "margin": null,
            "display": null,
            "left": null
          }
        },
        "7f802a92d9fe45b2a8ed44418ed71238": {
          "model_module": "@jupyter-widgets/controls",
          "model_name": "HBoxModel",
          "model_module_version": "1.5.0",
          "state": {
            "_view_name": "HBoxView",
            "_dom_classes": [],
            "_model_name": "HBoxModel",
            "_view_module": "@jupyter-widgets/controls",
            "_model_module_version": "1.5.0",
            "_view_count": null,
            "_view_module_version": "1.5.0",
            "box_style": "",
            "layout": "IPY_MODEL_ab8094c5c0b44dd082e54b9401a65799",
            "_model_module": "@jupyter-widgets/controls",
            "children": [
              "IPY_MODEL_841f56cf69614c51a7a73567340c5a1e",
              "IPY_MODEL_fd02cc726e9d4f55bd13c5e242fa54ae",
              "IPY_MODEL_02a99d0f8513402fa9b75bf6c24cba46"
            ]
          }
        },
        "ab8094c5c0b44dd082e54b9401a65799": {
          "model_module": "@jupyter-widgets/base",
          "model_name": "LayoutModel",
          "model_module_version": "1.2.0",
          "state": {
            "_view_name": "LayoutView",
            "grid_template_rows": null,
            "right": null,
            "justify_content": null,
            "_view_module": "@jupyter-widgets/base",
            "overflow": null,
            "_model_module_version": "1.2.0",
            "_view_count": null,
            "flex_flow": null,
            "width": null,
            "min_width": null,
            "border": null,
            "align_items": null,
            "bottom": null,
            "_model_module": "@jupyter-widgets/base",
            "top": null,
            "grid_column": null,
            "overflow_y": null,
            "overflow_x": null,
            "grid_auto_flow": null,
            "grid_area": null,
            "grid_template_columns": null,
            "flex": null,
            "_model_name": "LayoutModel",
            "justify_items": null,
            "grid_row": null,
            "max_height": null,
            "align_content": null,
            "visibility": null,
            "align_self": null,
            "height": null,
            "min_height": null,
            "padding": null,
            "grid_auto_rows": null,
            "grid_gap": null,
            "max_width": null,
            "order": null,
            "_view_module_version": "1.2.0",
            "grid_template_areas": null,
            "object_position": null,
            "object_fit": null,
            "grid_auto_columns": null,
            "margin": null,
            "display": null,
            "left": null
          }
        },
        "841f56cf69614c51a7a73567340c5a1e": {
          "model_module": "@jupyter-widgets/controls",
          "model_name": "HTMLModel",
          "model_module_version": "1.5.0",
          "state": {
            "_view_name": "HTMLView",
            "style": "IPY_MODEL_c1ab98d5b8364904a8737f944b8cd481",
            "_dom_classes": [],
            "description": "",
            "_model_name": "HTMLModel",
            "placeholder": "​",
            "_view_module": "@jupyter-widgets/controls",
            "_model_module_version": "1.5.0",
            "value": "2019qrels-docs.txt: 100%",
            "_view_count": null,
            "_view_module_version": "1.5.0",
            "description_tooltip": null,
            "_model_module": "@jupyter-widgets/controls",
            "layout": "IPY_MODEL_cd3bb2871b8847178c6bb24d8077b855"
          }
        },
        "fd02cc726e9d4f55bd13c5e242fa54ae": {
          "model_module": "@jupyter-widgets/controls",
          "model_name": "FloatProgressModel",
          "model_module_version": "1.5.0",
          "state": {
            "_view_name": "ProgressView",
            "style": "IPY_MODEL_c1150a5732ad4b77846dc60c2eed73c0",
            "_dom_classes": [],
            "description": "",
            "_model_name": "FloatProgressModel",
            "bar_style": "success",
            "max": 187092,
            "_view_module": "@jupyter-widgets/controls",
            "_model_module_version": "1.5.0",
            "value": 187092,
            "_view_count": null,
            "_view_module_version": "1.5.0",
            "orientation": "horizontal",
            "min": 0,
            "description_tooltip": null,
            "_model_module": "@jupyter-widgets/controls",
            "layout": "IPY_MODEL_99a26fb49ae94adf91cd5c78e6fa5400"
          }
        },
        "02a99d0f8513402fa9b75bf6c24cba46": {
          "model_module": "@jupyter-widgets/controls",
          "model_name": "HTMLModel",
          "model_module_version": "1.5.0",
          "state": {
            "_view_name": "HTMLView",
            "style": "IPY_MODEL_9037851933ba439db3b9efcfb9d85ae0",
            "_dom_classes": [],
            "description": "",
            "_model_name": "HTMLModel",
            "placeholder": "​",
            "_view_module": "@jupyter-widgets/controls",
            "_model_module_version": "1.5.0",
            "value": " 183k/183k [00:00&lt;00:00, 2.40MiB/s]",
            "_view_count": null,
            "_view_module_version": "1.5.0",
            "description_tooltip": null,
            "_model_module": "@jupyter-widgets/controls",
            "layout": "IPY_MODEL_9d01a0c4990d484183e0489720c911f5"
          }
        },
        "c1ab98d5b8364904a8737f944b8cd481": {
          "model_module": "@jupyter-widgets/controls",
          "model_name": "DescriptionStyleModel",
          "model_module_version": "1.5.0",
          "state": {
            "_view_name": "StyleView",
            "_model_name": "DescriptionStyleModel",
            "description_width": "",
            "_view_module": "@jupyter-widgets/base",
            "_model_module_version": "1.5.0",
            "_view_count": null,
            "_view_module_version": "1.2.0",
            "_model_module": "@jupyter-widgets/controls"
          }
        },
        "cd3bb2871b8847178c6bb24d8077b855": {
          "model_module": "@jupyter-widgets/base",
          "model_name": "LayoutModel",
          "model_module_version": "1.2.0",
          "state": {
            "_view_name": "LayoutView",
            "grid_template_rows": null,
            "right": null,
            "justify_content": null,
            "_view_module": "@jupyter-widgets/base",
            "overflow": null,
            "_model_module_version": "1.2.0",
            "_view_count": null,
            "flex_flow": null,
            "width": null,
            "min_width": null,
            "border": null,
            "align_items": null,
            "bottom": null,
            "_model_module": "@jupyter-widgets/base",
            "top": null,
            "grid_column": null,
            "overflow_y": null,
            "overflow_x": null,
            "grid_auto_flow": null,
            "grid_area": null,
            "grid_template_columns": null,
            "flex": null,
            "_model_name": "LayoutModel",
            "justify_items": null,
            "grid_row": null,
            "max_height": null,
            "align_content": null,
            "visibility": null,
            "align_self": null,
            "height": null,
            "min_height": null,
            "padding": null,
            "grid_auto_rows": null,
            "grid_gap": null,
            "max_width": null,
            "order": null,
            "_view_module_version": "1.2.0",
            "grid_template_areas": null,
            "object_position": null,
            "object_fit": null,
            "grid_auto_columns": null,
            "margin": null,
            "display": null,
            "left": null
          }
        },
        "c1150a5732ad4b77846dc60c2eed73c0": {
          "model_module": "@jupyter-widgets/controls",
          "model_name": "ProgressStyleModel",
          "model_module_version": "1.5.0",
          "state": {
            "_view_name": "StyleView",
            "_model_name": "ProgressStyleModel",
            "description_width": "",
            "_view_module": "@jupyter-widgets/base",
            "_model_module_version": "1.5.0",
            "_view_count": null,
            "_view_module_version": "1.2.0",
            "bar_color": null,
            "_model_module": "@jupyter-widgets/controls"
          }
        },
        "99a26fb49ae94adf91cd5c78e6fa5400": {
          "model_module": "@jupyter-widgets/base",
          "model_name": "LayoutModel",
          "model_module_version": "1.2.0",
          "state": {
            "_view_name": "LayoutView",
            "grid_template_rows": null,
            "right": null,
            "justify_content": null,
            "_view_module": "@jupyter-widgets/base",
            "overflow": null,
            "_model_module_version": "1.2.0",
            "_view_count": null,
            "flex_flow": null,
            "width": null,
            "min_width": null,
            "border": null,
            "align_items": null,
            "bottom": null,
            "_model_module": "@jupyter-widgets/base",
            "top": null,
            "grid_column": null,
            "overflow_y": null,
            "overflow_x": null,
            "grid_auto_flow": null,
            "grid_area": null,
            "grid_template_columns": null,
            "flex": null,
            "_model_name": "LayoutModel",
            "justify_items": null,
            "grid_row": null,
            "max_height": null,
            "align_content": null,
            "visibility": null,
            "align_self": null,
            "height": null,
            "min_height": null,
            "padding": null,
            "grid_auto_rows": null,
            "grid_gap": null,
            "max_width": null,
            "order": null,
            "_view_module_version": "1.2.0",
            "grid_template_areas": null,
            "object_position": null,
            "object_fit": null,
            "grid_auto_columns": null,
            "margin": null,
            "display": null,
            "left": null
          }
        },
        "9037851933ba439db3b9efcfb9d85ae0": {
          "model_module": "@jupyter-widgets/controls",
          "model_name": "DescriptionStyleModel",
          "model_module_version": "1.5.0",
          "state": {
            "_view_name": "StyleView",
            "_model_name": "DescriptionStyleModel",
            "description_width": "",
            "_view_module": "@jupyter-widgets/base",
            "_model_module_version": "1.5.0",
            "_view_count": null,
            "_view_module_version": "1.2.0",
            "_model_module": "@jupyter-widgets/controls"
          }
        },
        "9d01a0c4990d484183e0489720c911f5": {
          "model_module": "@jupyter-widgets/base",
          "model_name": "LayoutModel",
          "model_module_version": "1.2.0",
          "state": {
            "_view_name": "LayoutView",
            "grid_template_rows": null,
            "right": null,
            "justify_content": null,
            "_view_module": "@jupyter-widgets/base",
            "overflow": null,
            "_model_module_version": "1.2.0",
            "_view_count": null,
            "flex_flow": null,
            "width": null,
            "min_width": null,
            "border": null,
            "align_items": null,
            "bottom": null,
            "_model_module": "@jupyter-widgets/base",
            "top": null,
            "grid_column": null,
            "overflow_y": null,
            "overflow_x": null,
            "grid_auto_flow": null,
            "grid_area": null,
            "grid_template_columns": null,
            "flex": null,
            "_model_name": "LayoutModel",
            "justify_items": null,
            "grid_row": null,
            "max_height": null,
            "align_content": null,
            "visibility": null,
            "align_self": null,
            "height": null,
            "min_height": null,
            "padding": null,
            "grid_auto_rows": null,
            "grid_gap": null,
            "max_width": null,
            "order": null,
            "_view_module_version": "1.2.0",
            "grid_template_areas": null,
            "object_position": null,
            "object_fit": null,
            "grid_auto_columns": null,
            "margin": null,
            "display": null,
            "left": null
          }
        }
      }
    }
  },
  "cells": [
    {
      "cell_type": "markdown",
      "metadata": {
        "id": "Ao_-W_fQgjhO"
      },
      "source": [
        "# PyTerrier JPQ Example Notebook using existing index for MSMARCO\n",
        "\n"
      ]
    },
    {
      "cell_type": "markdown",
      "metadata": {
        "id": "n8AQikwAgoXd"
      },
      "source": [
        "## Installation"
      ]
    },
    {
      "cell_type": "code",
      "metadata": {
        "colab": {
          "base_uri": "https://localhost:8080/"
        },
        "id": "Bkkt-R6TV9lO",
        "outputId": "a442172a-193d-4ba8-bffd-b21d21ee85af"
      },
      "source": [
        "!pip install -q python-terrier"
      ],
      "execution_count": 1,
      "outputs": [
        {
          "output_type": "stream",
          "name": "stdout",
          "text": [
            "\u001b[K     |████████████████████████████████| 95 kB 1.8 MB/s \n",
            "\u001b[K     |████████████████████████████████| 1.1 MB 29.6 MB/s \n",
            "\u001b[K     |████████████████████████████████| 69 kB 5.5 MB/s \n",
            "\u001b[K     |████████████████████████████████| 255 kB 46.1 MB/s \n",
            "\u001b[K     |████████████████████████████████| 596 kB 41.4 MB/s \n",
            "\u001b[K     |████████████████████████████████| 126 kB 47.9 MB/s \n",
            "\u001b[K     |████████████████████████████████| 1.8 MB 24.7 MB/s \n",
            "\u001b[K     |████████████████████████████████| 294 kB 38.9 MB/s \n",
            "\u001b[K     |████████████████████████████████| 72 kB 1.5 MB/s \n",
            "\u001b[K     |████████████████████████████████| 6.3 MB 43.5 MB/s \n",
            "\u001b[K     |████████████████████████████████| 291 kB 43.7 MB/s \n",
            "\u001b[K     |████████████████████████████████| 45 kB 2.8 MB/s \n",
            "\u001b[?25h  Building wheel for python-terrier (setup.py) ... \u001b[?25l\u001b[?25hdone\n",
            "  Building wheel for ir-measures (setup.py) ... \u001b[?25l\u001b[?25hdone\n",
            "  Building wheel for cwl-eval (setup.py) ... \u001b[?25l\u001b[?25hdone\n",
            "  Building wheel for cbor (setup.py) ... \u001b[?25l\u001b[?25hdone\n",
            "  Building wheel for warc3-wet-clueweb09 (setup.py) ... \u001b[?25l\u001b[?25hdone\n",
            "  Building wheel for chest (setup.py) ... \u001b[?25l\u001b[?25hdone\n",
            "  Building wheel for wget (setup.py) ... \u001b[?25l\u001b[?25hdone\n"
          ]
        }
      ]
    },
    {
      "cell_type": "code",
      "metadata": {
        "colab": {
          "base_uri": "https://localhost:8080/"
        },
        "id": "JDwrTulyWKCF",
        "outputId": "615d9370-4668-4987-f6c3-3a448df61f68"
      },
      "source": [
        "!pip install -q git+https://github.com/cmacdonald/pyt_jpq.git"
      ],
      "execution_count": 2,
      "outputs": [
        {
          "output_type": "stream",
          "name": "stdout",
          "text": [
            "\u001b[K     |████████████████████████████████| 3.1 MB 5.2 MB/s \n",
            "\u001b[K     |████████████████████████████████| 131 kB 40.8 MB/s \n",
            "\u001b[K     |████████████████████████████████| 3.3 MB 31.7 MB/s \n",
            "\u001b[K     |████████████████████████████████| 59 kB 6.9 MB/s \n",
            "\u001b[K     |████████████████████████████████| 895 kB 37.5 MB/s \n",
            "\u001b[K     |████████████████████████████████| 8.3 MB 38.7 MB/s \n",
            "\u001b[K     |████████████████████████████████| 79 kB 7.4 MB/s \n",
            "\u001b[K     |████████████████████████████████| 127 kB 46.2 MB/s \n",
            "\u001b[?25h  Building wheel for pyterrier-jpq (setup.py) ... \u001b[?25l\u001b[?25hdone\n",
            "  Building wheel for jpq (setup.py) ... \u001b[?25l\u001b[?25hdone\n",
            "\u001b[31mERROR: pip's dependency resolver does not currently take into account all the packages that are installed. This behaviour is the source of the following dependency conflicts.\n",
            "datascience 0.10.6 requires folium==0.2.1, but you have folium 0.8.3 which is incompatible.\u001b[0m\n"
          ]
        }
      ]
    },
    {
      "cell_type": "markdown",
      "metadata": {
        "id": "_Uqdou6Mfupk"
      },
      "source": [
        "Install FAISS - this is the command on Colab. On other machines, [use Conda to install FAISS](https://github.com/facebookresearch/faiss/blob/main/INSTALL.md)"
      ]
    },
    {
      "cell_type": "code",
      "metadata": {
        "colab": {
          "base_uri": "https://localhost:8080/",
          "height": 52
        },
        "id": "4k2DydoyeXUI",
        "outputId": "3b7f09fb-747b-4780-bedb-4248d943ae2c"
      },
      "source": [
        "!pip install -q faiss-gpu\n",
        "import faiss\n",
        "faiss.__version__"
      ],
      "execution_count": 3,
      "outputs": [
        {
          "output_type": "stream",
          "name": "stdout",
          "text": [
            "\u001b[K     |████████████████████████████████| 90.1 MB 2.1 MB/s \n",
            "\u001b[?25h"
          ]
        },
        {
          "output_type": "execute_result",
          "data": {
            "application/vnd.google.colaboratory.intrinsic+json": {
              "type": "string"
            },
            "text/plain": [
              "'1.7.1'"
            ]
          },
          "metadata": {},
          "execution_count": 3
        }
      ]
    },
    {
      "cell_type": "markdown",
      "metadata": {
        "id": "Jhwc0Ws2gqYB"
      },
      "source": [
        "## Downloads"
      ]
    },
    {
      "cell_type": "markdown",
      "metadata": {
        "id": "ahYi9KiWffQ0"
      },
      "source": [
        "Download the existing MSMARCO index provided by the JPQ authors."
      ]
    },
    {
      "cell_type": "code",
      "metadata": {
        "colab": {
          "base_uri": "https://localhost:8080/"
        },
        "id": "ZuuVHQnPW4c5",
        "outputId": "7c9c68c6-dfa6-4a46-bb7b-ed2c27aa11b1"
      },
      "source": [
        "!wget https://www.dropbox.com/s/hcgry8oljoif4wo/OPQ96%2CIVF1%2CPQ96x8.index?dl=0 -O OPQ96,IVF1,PQ96x8.index\n"
      ],
      "execution_count": 4,
      "outputs": [
        {
          "output_type": "stream",
          "name": "stdout",
          "text": [
            "--2021-11-30 11:04:02--  https://www.dropbox.com/s/hcgry8oljoif4wo/OPQ96%2CIVF1%2CPQ96x8.index?dl=0\n",
            "Resolving www.dropbox.com (www.dropbox.com)... 162.125.3.18, 2620:100:601b:18::a27d:812\n",
            "Connecting to www.dropbox.com (www.dropbox.com)|162.125.3.18|:443... connected.\n",
            "HTTP request sent, awaiting response... 301 Moved Permanently\n",
            "Location: /s/raw/hcgry8oljoif4wo/OPQ96%2CIVF1%2CPQ96x8.index [following]\n",
            "--2021-11-30 11:04:03--  https://www.dropbox.com/s/raw/hcgry8oljoif4wo/OPQ96%2CIVF1%2CPQ96x8.index\n",
            "Reusing existing connection to www.dropbox.com:443.\n",
            "HTTP request sent, awaiting response... 302 Found\n",
            "Location: https://uc4aced9d5988ba43b6c171f4eea.dl.dropboxusercontent.com/cd/0/inline/Ba9geZfJQwhdMWYqNYC9h_VFZ3756_cSs2BopUo139vzoYt_QEKtUeDm9VL_fp6KU2BjkuOOxu3AyQ5ShzzAzz9wlGrq8GBr6kmtujdeY0v0_b9xm4NHKgFLaYXm6zZlFIbB-j74bQhGIpUd9VrJfhW1/file# [following]\n",
            "--2021-11-30 11:04:03--  https://uc4aced9d5988ba43b6c171f4eea.dl.dropboxusercontent.com/cd/0/inline/Ba9geZfJQwhdMWYqNYC9h_VFZ3756_cSs2BopUo139vzoYt_QEKtUeDm9VL_fp6KU2BjkuOOxu3AyQ5ShzzAzz9wlGrq8GBr6kmtujdeY0v0_b9xm4NHKgFLaYXm6zZlFIbB-j74bQhGIpUd9VrJfhW1/file\n",
            "Resolving uc4aced9d5988ba43b6c171f4eea.dl.dropboxusercontent.com (uc4aced9d5988ba43b6c171f4eea.dl.dropboxusercontent.com)... 162.125.3.15, 2620:100:601b:15::a27d:80f\n",
            "Connecting to uc4aced9d5988ba43b6c171f4eea.dl.dropboxusercontent.com (uc4aced9d5988ba43b6c171f4eea.dl.dropboxusercontent.com)|162.125.3.15|:443... connected.\n",
            "HTTP request sent, awaiting response... 302 Found\n",
            "Location: /cd/0/inline2/Ba-grMd4AkLyTPDyg5nsUj3RS0byqHpl1b93HV4QAMNvxIcMKUegZ7WqThrLu1zBxBQZ1cCNVzq2iweWS-lJFTH5_IkYNJloftP3NhG1hKi71P4MmBYCrQ25u2ANBLuBpL0xhUTaDfWiC1why-oiY5-_okHQi8DmqA-fQTNgJMjO2DaIfYNBKB4PPdNKKu-k_Od7KtiagOyU4I7f7GWmWx2cixPokp2wRQhOaAEs0ijbDoupFQA_AD9g2IPsKgL9JrTOROD9gIt-ibnA3aQMeyq8SJFxhO8R35WW7xDQ1YgfJTTG5PylDFTY0PtiHUX0LrKTBj2TuQOhoN-LCyPjtNE0jV5SKsXI8DQqD92gqtZwzfSahLGm_xVryZHgUlexn8M/file [following]\n",
            "--2021-11-30 11:04:03--  https://uc4aced9d5988ba43b6c171f4eea.dl.dropboxusercontent.com/cd/0/inline2/Ba-grMd4AkLyTPDyg5nsUj3RS0byqHpl1b93HV4QAMNvxIcMKUegZ7WqThrLu1zBxBQZ1cCNVzq2iweWS-lJFTH5_IkYNJloftP3NhG1hKi71P4MmBYCrQ25u2ANBLuBpL0xhUTaDfWiC1why-oiY5-_okHQi8DmqA-fQTNgJMjO2DaIfYNBKB4PPdNKKu-k_Od7KtiagOyU4I7f7GWmWx2cixPokp2wRQhOaAEs0ijbDoupFQA_AD9g2IPsKgL9JrTOROD9gIt-ibnA3aQMeyq8SJFxhO8R35WW7xDQ1YgfJTTG5PylDFTY0PtiHUX0LrKTBj2TuQOhoN-LCyPjtNE0jV5SKsXI8DQqD92gqtZwzfSahLGm_xVryZHgUlexn8M/file\n",
            "Reusing existing connection to uc4aced9d5988ba43b6c171f4eea.dl.dropboxusercontent.com:443.\n",
            "HTTP request sent, awaiting response... 200 OK\n",
            "Length: 922698651 (880M) [application/octet-stream]\n",
            "Saving to: ‘OPQ96,IVF1,PQ96x8.index’\n",
            "\n",
            "OPQ96,IVF1,PQ96x8.i 100%[===================>] 879.95M  93.3MB/s    in 11s     \n",
            "\n",
            "2021-11-30 11:04:15 (82.5 MB/s) - ‘OPQ96,IVF1,PQ96x8.index’ saved [922698651/922698651]\n",
            "\n"
          ]
        }
      ]
    },
    {
      "cell_type": "markdown",
      "metadata": {
        "id": "UEQyMZ7Ofktx"
      },
      "source": [
        "Download the corresponding query encoder model provided by the authors"
      ]
    },
    {
      "cell_type": "code",
      "metadata": {
        "colab": {
          "base_uri": "https://localhost:8080/"
        },
        "id": "BFX3yPHFXHAv",
        "outputId": "71989560-0470-41a6-e898-213d59faac30"
      },
      "source": [
        "!wget https://www.dropbox.com/s/xo1hlbgg7yi7s6a/m96.tar.gz?dl=0 -O m96.tar.gz\n",
        "!tar -xzvf m96.tar.gz\n"
      ],
      "execution_count": 5,
      "outputs": [
        {
          "output_type": "stream",
          "name": "stdout",
          "text": [
            "--2021-11-30 11:04:15--  https://www.dropbox.com/s/xo1hlbgg7yi7s6a/m96.tar.gz?dl=0\n",
            "Resolving www.dropbox.com (www.dropbox.com)... 162.125.3.18, 2620:100:601b:18::a27d:812\n",
            "Connecting to www.dropbox.com (www.dropbox.com)|162.125.3.18|:443... connected.\n",
            "HTTP request sent, awaiting response... 301 Moved Permanently\n",
            "Location: /s/raw/xo1hlbgg7yi7s6a/m96.tar.gz [following]\n",
            "--2021-11-30 11:04:15--  https://www.dropbox.com/s/raw/xo1hlbgg7yi7s6a/m96.tar.gz\n",
            "Reusing existing connection to www.dropbox.com:443.\n",
            "HTTP request sent, awaiting response... 302 Found\n",
            "Location: https://ucc6ff443c2ffa484282bc66f9cb.dl.dropboxusercontent.com/cd/0/inline/Ba8Oj7NfzSafy2qBviCmIjwEDG9ASjtzN5NHTxQvWFkDtmHWsO2F1-WO9D8xgKzfuN64HjIDcLLiQ0KEHz3_y_MI3Bxmf2kRWIkdQA5m_P9cSsSbVx24PTe9mNdzioAJ1iPc0TcMX3nyqraOrOBRE1if/file# [following]\n",
            "--2021-11-30 11:04:15--  https://ucc6ff443c2ffa484282bc66f9cb.dl.dropboxusercontent.com/cd/0/inline/Ba8Oj7NfzSafy2qBviCmIjwEDG9ASjtzN5NHTxQvWFkDtmHWsO2F1-WO9D8xgKzfuN64HjIDcLLiQ0KEHz3_y_MI3Bxmf2kRWIkdQA5m_P9cSsSbVx24PTe9mNdzioAJ1iPc0TcMX3nyqraOrOBRE1if/file\n",
            "Resolving ucc6ff443c2ffa484282bc66f9cb.dl.dropboxusercontent.com (ucc6ff443c2ffa484282bc66f9cb.dl.dropboxusercontent.com)... 162.125.5.15, 2620:100:601b:15::a27d:80f\n",
            "Connecting to ucc6ff443c2ffa484282bc66f9cb.dl.dropboxusercontent.com (ucc6ff443c2ffa484282bc66f9cb.dl.dropboxusercontent.com)|162.125.5.15|:443... connected.\n",
            "HTTP request sent, awaiting response... 302 Found\n",
            "Location: /cd/0/inline2/Ba_D0Zkq-9CVXgTwn8wMOebPJUahGbIy0HGn8f7glcVY5vKg-Y4K6WDMetG6kHr3LT9XkpgdqJtFdv44VRKNSQ1cQ4iqQ0pBofTK5v_o5sS1zIYI-lSAZL1DPjkAjQSCtLKEidtZzC0mVTIy5p1h0G53Y9QTSgEUIY6L_HpHv_g23BWFXgo91xBnx4fw3xPZMotFi1RqkkgMsr4MdD91-Z9MOOgDfFs8kEY2yIvqGSeuh_Zr_oiu51gfEtfLQzC4acUhv9Xa_x3HG6fJFggGmmNLZLY6-VbCKp1-l-pBHcfsAyviq7Z75hGohKh_Oh2-y6js5Xd9iB3ZMNz28y3ZlXOZLQI69cJ_hcTJCT6qbCgX6x6lr0i4UPtyKM75MKK0oPc/file [following]\n",
            "--2021-11-30 11:04:16--  https://ucc6ff443c2ffa484282bc66f9cb.dl.dropboxusercontent.com/cd/0/inline2/Ba_D0Zkq-9CVXgTwn8wMOebPJUahGbIy0HGn8f7glcVY5vKg-Y4K6WDMetG6kHr3LT9XkpgdqJtFdv44VRKNSQ1cQ4iqQ0pBofTK5v_o5sS1zIYI-lSAZL1DPjkAjQSCtLKEidtZzC0mVTIy5p1h0G53Y9QTSgEUIY6L_HpHv_g23BWFXgo91xBnx4fw3xPZMotFi1RqkkgMsr4MdD91-Z9MOOgDfFs8kEY2yIvqGSeuh_Zr_oiu51gfEtfLQzC4acUhv9Xa_x3HG6fJFggGmmNLZLY6-VbCKp1-l-pBHcfsAyviq7Z75hGohKh_Oh2-y6js5Xd9iB3ZMNz28y3ZlXOZLQI69cJ_hcTJCT6qbCgX6x6lr0i4UPtyKM75MKK0oPc/file\n",
            "Reusing existing connection to ucc6ff443c2ffa484282bc66f9cb.dl.dropboxusercontent.com:443.\n",
            "HTTP request sent, awaiting response... 200 OK\n",
            "Length: 462371504 (441M) [application/octet-stream]\n",
            "Saving to: ‘m96.tar.gz’\n",
            "\n",
            "m96.tar.gz          100%[===================>] 440.95M  51.4MB/s    in 8.8s    \n",
            "\n",
            "2021-11-30 11:04:25 (50.1 MB/s) - ‘m96.tar.gz’ saved [462371504/462371504]\n",
            "\n",
            "./m96/\n",
            "./m96/pytorch_model.bin\n",
            "./m96/config.json\n"
          ]
        }
      ]
    },
    {
      "cell_type": "markdown",
      "metadata": {
        "id": "yjNpSEbggtDH"
      },
      "source": [
        "## Running and Evaluation"
      ]
    },
    {
      "cell_type": "markdown",
      "metadata": {
        "id": "LDZ-LAtRfodA"
      },
      "source": [
        "Start PyTerrier"
      ]
    },
    {
      "cell_type": "code",
      "metadata": {
        "colab": {
          "base_uri": "https://localhost:8080/"
        },
        "id": "qqnbv5LVXMRh",
        "outputId": "3a5fca55-e799-4133-c919-e390d9868258"
      },
      "source": [
        "import pyterrier as pt\n",
        "pt.init()"
      ],
      "execution_count": 6,
      "outputs": [
        {
          "output_type": "stream",
          "name": "stdout",
          "text": [
            "terrier-assemblies 5.6 jar-with-dependencies not found, downloading to /root/.pyterrier...\n",
            "Done\n",
            "terrier-python-helper 0.0.6 jar not found, downloading to /root/.pyterrier...\n",
            "Done\n",
            "PyTerrier 0.7.1 has loaded Terrier 5.6 (built by craigmacdonald on 2021-09-17 13:27)\n"
          ]
        }
      ]
    },
    {
      "cell_type": "markdown",
      "metadata": {
        "id": "00lM89vrf229"
      },
      "source": [
        "Instantiate the retriever using the existing faiss index"
      ]
    },
    {
      "cell_type": "code",
      "metadata": {
        "colab": {
          "base_uri": "https://localhost:8080/",
          "height": 237,
          "referenced_widgets": [
            "0b314c6bde62483baa404156f341b42b",
            "900e036cff1b44ed81a40d4c530887e1",
            "8c8c5bde8bef4ef989385ad1dd67871c",
            "514a1bfc0f274e088f7e6cde9991369d",
            "63bdf7080b6e4384b61b19dc44fe4b48",
            "1245703937de45f48e502fc8d6318581",
            "3637004fe92641c0a7582a1bfd2584fe",
            "9b8350c1cfe3423bb3ae7978c03f1d8d",
            "86488454fd6d4895aaf923b6ff494d6c",
            "5414900f6a9c4bb98719300c2f53953b",
            "030118f7b7214035b9170c2e4d66b94f",
            "2bdbeca50477470e992c0e9975874a54",
            "4e2f6a81c6994caf8978c1d375192aa3",
            "8b1a13ef85674c4a8f7adf9699a2f9a3",
            "6d848ff341fa4daf8116f1d69ad6c1b9",
            "aa77c9b0b2754bd2bf733f4b6c94631f",
            "1dec0d841dff44939ae3850c7f62f301",
            "bcca2435fb3a4723969f1237f41134a0",
            "58c8d2ea34fd44dbaaf57ab8dd9e30c9",
            "1dc55ffce5d14047b1700863f76e81cc",
            "78a4da5f02364be4aec150afd5611e24",
            "b5f643ff64b7419288dbd7c755aeffcb"
          ]
        },
        "id": "k_yzgpWEYnmT",
        "outputId": "9fe9710f-3bd9-41de-9f83-7a262a7fd4d1"
      },
      "source": [
        "from pyt_jpq import *\n",
        "\n",
        "ret = JPQRetrieve(\"./\", \"./m96/\", faiss_name=\"OPQ96,IVF1,PQ96x8.index\", gpu=True, gpu_search=False)"
      ],
      "execution_count": 7,
      "outputs": [
        {
          "output_type": "stream",
          "name": "stderr",
          "text": [
            "/usr/local/lib/python3.7/dist-packages/transformers/configuration_utils.py:341: UserWarning: Passing `gradient_checkpointing` to a config initialization is deprecated and will be removed in v5 Transformers. Using `model.gradient_checkpointing_enable()` instead, or if you are using the `Trainer` API, pass `gradient_checkpointing=True` in your `TrainingArguments`.\n",
            "  \"Passing `gradient_checkpointing` to a config initialization is deprecated and will be removed in v5 \"\n"
          ]
        },
        {
          "output_type": "display_data",
          "data": {
            "application/vnd.jupyter.widget-view+json": {
              "model_id": "0b314c6bde62483baa404156f341b42b",
              "version_minor": 0,
              "version_major": 2
            },
            "text/plain": [
              "Downloading:   0%|          | 0.00/899k [00:00<?, ?B/s]"
            ]
          },
          "metadata": {}
        },
        {
          "output_type": "display_data",
          "data": {
            "application/vnd.jupyter.widget-view+json": {
              "model_id": "2bdbeca50477470e992c0e9975874a54",
              "version_minor": 0,
              "version_major": 2
            },
            "text/plain": [
              "Downloading:   0%|          | 0.00/456k [00:00<?, ?B/s]"
            ]
          },
          "metadata": {}
        },
        {
          "output_type": "stream",
          "name": "stderr",
          "text": [
            "/usr/local/lib/python3.7/dist-packages/pyt_jpq/__init__.py:326: UserWarning: No passages_meta present, params assumed from constructor args\n",
            "  warn(\"No passages_meta present, params assumed from constructor args\")\n",
            "/usr/local/lib/python3.7/dist-packages/pyt_jpq/__init__.py:350: UserWarning: No pid2offset present, training not possible\n",
            "  warn(\"No pid2offset present, training not possible\")\n",
            "/usr/local/lib/python3.7/dist-packages/pyt_jpq/__init__.py:358: UserWarning: No docno2docid present, assuming str(docid) == docno\n",
            "  warn(\"No docno2docid present, assuming str(docid) == docno\")\n"
          ]
        }
      ]
    },
    {
      "cell_type": "markdown",
      "metadata": {
        "id": "JSD9VC8Bf6At"
      },
      "source": [
        "Check that it can do a search"
      ]
    },
    {
      "cell_type": "code",
      "metadata": {
        "colab": {
          "base_uri": "https://localhost:8080/",
          "height": 419
        },
        "id": "n7nITN8nY3Qh",
        "outputId": "c91d8de6-bb77-4e26-ba61-07950cfe8181"
      },
      "source": [
        "ret.search(\"chemical reactions\")"
      ],
      "execution_count": 8,
      "outputs": [
        {
          "output_type": "execute_result",
          "data": {
            "text/html": [
              "<div>\n",
              "<style scoped>\n",
              "    .dataframe tbody tr th:only-of-type {\n",
              "        vertical-align: middle;\n",
              "    }\n",
              "\n",
              "    .dataframe tbody tr th {\n",
              "        vertical-align: top;\n",
              "    }\n",
              "\n",
              "    .dataframe thead th {\n",
              "        text-align: right;\n",
              "    }\n",
              "</style>\n",
              "<table border=\"1\" class=\"dataframe\">\n",
              "  <thead>\n",
              "    <tr style=\"text-align: right;\">\n",
              "      <th></th>\n",
              "      <th>qid</th>\n",
              "      <th>docid</th>\n",
              "      <th>docno</th>\n",
              "      <th>score</th>\n",
              "      <th>rank</th>\n",
              "    </tr>\n",
              "  </thead>\n",
              "  <tbody>\n",
              "    <tr>\n",
              "      <th>0</th>\n",
              "      <td>1</td>\n",
              "      <td>7605154</td>\n",
              "      <td>7605154</td>\n",
              "      <td>580.082092</td>\n",
              "      <td>0</td>\n",
              "    </tr>\n",
              "    <tr>\n",
              "      <th>1</th>\n",
              "      <td>1</td>\n",
              "      <td>3732410</td>\n",
              "      <td>3732410</td>\n",
              "      <td>580.075684</td>\n",
              "      <td>1</td>\n",
              "    </tr>\n",
              "    <tr>\n",
              "      <th>2</th>\n",
              "      <td>1</td>\n",
              "      <td>742210</td>\n",
              "      <td>742210</td>\n",
              "      <td>579.954590</td>\n",
              "      <td>2</td>\n",
              "    </tr>\n",
              "    <tr>\n",
              "      <th>3</th>\n",
              "      <td>1</td>\n",
              "      <td>1420159</td>\n",
              "      <td>1420159</td>\n",
              "      <td>579.701416</td>\n",
              "      <td>3</td>\n",
              "    </tr>\n",
              "    <tr>\n",
              "      <th>4</th>\n",
              "      <td>1</td>\n",
              "      <td>4721960</td>\n",
              "      <td>4721960</td>\n",
              "      <td>579.614197</td>\n",
              "      <td>4</td>\n",
              "    </tr>\n",
              "    <tr>\n",
              "      <th>...</th>\n",
              "      <td>...</td>\n",
              "      <td>...</td>\n",
              "      <td>...</td>\n",
              "      <td>...</td>\n",
              "      <td>...</td>\n",
              "    </tr>\n",
              "    <tr>\n",
              "      <th>95</th>\n",
              "      <td>1</td>\n",
              "      <td>742212</td>\n",
              "      <td>742212</td>\n",
              "      <td>577.549622</td>\n",
              "      <td>95</td>\n",
              "    </tr>\n",
              "    <tr>\n",
              "      <th>96</th>\n",
              "      <td>1</td>\n",
              "      <td>3732413</td>\n",
              "      <td>3732413</td>\n",
              "      <td>577.541138</td>\n",
              "      <td>96</td>\n",
              "    </tr>\n",
              "    <tr>\n",
              "      <th>97</th>\n",
              "      <td>1</td>\n",
              "      <td>3320363</td>\n",
              "      <td>3320363</td>\n",
              "      <td>577.539612</td>\n",
              "      <td>97</td>\n",
              "    </tr>\n",
              "    <tr>\n",
              "      <th>98</th>\n",
              "      <td>1</td>\n",
              "      <td>4651013</td>\n",
              "      <td>4651013</td>\n",
              "      <td>577.537964</td>\n",
              "      <td>98</td>\n",
              "    </tr>\n",
              "    <tr>\n",
              "      <th>99</th>\n",
              "      <td>1</td>\n",
              "      <td>2521081</td>\n",
              "      <td>2521081</td>\n",
              "      <td>577.534973</td>\n",
              "      <td>99</td>\n",
              "    </tr>\n",
              "  </tbody>\n",
              "</table>\n",
              "<p>100 rows × 5 columns</p>\n",
              "</div>"
            ],
            "text/plain": [
              "   qid    docid    docno       score  rank\n",
              "0    1  7605154  7605154  580.082092     0\n",
              "1    1  3732410  3732410  580.075684     1\n",
              "2    1   742210   742210  579.954590     2\n",
              "3    1  1420159  1420159  579.701416     3\n",
              "4    1  4721960  4721960  579.614197     4\n",
              "..  ..      ...      ...         ...   ...\n",
              "95   1   742212   742212  577.549622    95\n",
              "96   1  3732413  3732413  577.541138    96\n",
              "97   1  3320363  3320363  577.539612    97\n",
              "98   1  4651013  4651013  577.537964    98\n",
              "99   1  2521081  2521081  577.534973    99\n",
              "\n",
              "[100 rows x 5 columns]"
            ]
          },
          "metadata": {},
          "execution_count": 8
        }
      ]
    },
    {
      "cell_type": "markdown",
      "metadata": {
        "id": "PsAyZW4jf85V"
      },
      "source": [
        "Evaluate performance on the TREC 2019 topics."
      ]
    },
    {
      "cell_type": "code",
      "metadata": {
        "colab": {
          "base_uri": "https://localhost:8080/",
          "height": 178,
          "referenced_widgets": [
            "f49b9955574846379a69443ccf285908",
            "8757efe09ee04f8ebbdb7bd2192500da",
            "3b4ce64fef2649f1b715ee79104efa7f",
            "14c72d2e543a423c9e7cccb404caba39",
            "8f7536ad8416425d8d77e683c8e05ef8",
            "6c7e75b03b0845a5a2f9417357e790c6",
            "6c80286c0b274818a31225771a7e3bff",
            "1504230fce6344cf803e00d0358ed779",
            "79d3722d0f4146398cab9b8d5000a5d1",
            "4b8fb1519a4e4d458898aa75da3ae8d8",
            "6af2301a9c364f3eb50d9b6908a5f436",
            "7f802a92d9fe45b2a8ed44418ed71238",
            "ab8094c5c0b44dd082e54b9401a65799",
            "841f56cf69614c51a7a73567340c5a1e",
            "fd02cc726e9d4f55bd13c5e242fa54ae",
            "02a99d0f8513402fa9b75bf6c24cba46",
            "c1ab98d5b8364904a8737f944b8cd481",
            "cd3bb2871b8847178c6bb24d8077b855",
            "c1150a5732ad4b77846dc60c2eed73c0",
            "99a26fb49ae94adf91cd5c78e6fa5400",
            "9037851933ba439db3b9efcfb9d85ae0",
            "9d01a0c4990d484183e0489720c911f5"
          ]
        },
        "id": "Lxi4562LY4uv",
        "outputId": "9759a5b4-15d4-4d1d-8447-93b84a8f86d8"
      },
      "source": [
        "from pyterrier.measures import *\n",
        "pt.Experiment(\n",
        "    [ret],\n",
        "    pt.get_dataset('msmarco_passage').get_topics('test-2019'),\n",
        "    pt.get_dataset('msmarco_passage').get_qrels('test-2019'),\n",
        "    batch_size=200,\n",
        "    filter_by_qrels=True,\n",
        "    eval_metrics=[RR(rel=2), nDCG@10, nDCG@100, AP(rel=2), R@100, \"mrt\"]\n",
        ")"
      ],
      "execution_count": 9,
      "outputs": [
        {
          "output_type": "stream",
          "name": "stdout",
          "text": [
            "Downloading msmarco_passage topics to /root/.pyterrier/corpora/msmarco_passage/msmarco-test2019-queries.tsv.gz\n"
          ]
        },
        {
          "output_type": "display_data",
          "data": {
            "application/vnd.jupyter.widget-view+json": {
              "model_id": "f49b9955574846379a69443ccf285908",
              "version_minor": 0,
              "version_major": 2
            },
            "text/plain": [
              "msmarco-test2019-queries.tsv.gz:   0%|          | 0.00/4.18k [00:00<?, ?iB/s]"
            ]
          },
          "metadata": {}
        },
        {
          "output_type": "stream",
          "name": "stdout",
          "text": [
            "Downloading msmarco_passage qrels to /root/.pyterrier/corpora/msmarco_passage/2019qrels-docs.txt\n"
          ]
        },
        {
          "output_type": "display_data",
          "data": {
            "application/vnd.jupyter.widget-view+json": {
              "model_id": "7f802a92d9fe45b2a8ed44418ed71238",
              "version_minor": 0,
              "version_major": 2
            },
            "text/plain": [
              "2019qrels-docs.txt:   0%|          | 0.00/183k [00:00<?, ?iB/s]"
            ]
          },
          "metadata": {}
        },
        {
          "output_type": "execute_result",
          "data": {
            "text/html": [
              "<div>\n",
              "<style scoped>\n",
              "    .dataframe tbody tr th:only-of-type {\n",
              "        vertical-align: middle;\n",
              "    }\n",
              "\n",
              "    .dataframe tbody tr th {\n",
              "        vertical-align: top;\n",
              "    }\n",
              "\n",
              "    .dataframe thead th {\n",
              "        text-align: right;\n",
              "    }\n",
              "</style>\n",
              "<table border=\"1\" class=\"dataframe\">\n",
              "  <thead>\n",
              "    <tr style=\"text-align: right;\">\n",
              "      <th></th>\n",
              "      <th>name</th>\n",
              "      <th>RR(rel=2)</th>\n",
              "      <th>nDCG@10</th>\n",
              "      <th>nDCG@100</th>\n",
              "      <th>AP(rel=2)</th>\n",
              "      <th>R@100</th>\n",
              "      <th>mrt</th>\n",
              "    </tr>\n",
              "  </thead>\n",
              "  <tbody>\n",
              "    <tr>\n",
              "      <th>0</th>\n",
              "      <td>JPQ</td>\n",
              "      <td>0.833527</td>\n",
              "      <td>0.680037</td>\n",
              "      <td>0.586696</td>\n",
              "      <td>0.373038</td>\n",
              "      <td>0.466696</td>\n",
              "      <td>876.588881</td>\n",
              "    </tr>\n",
              "  </tbody>\n",
              "</table>\n",
              "</div>"
            ],
            "text/plain": [
              "  name  RR(rel=2)   nDCG@10  nDCG@100  AP(rel=2)     R@100         mrt\n",
              "0  JPQ   0.833527  0.680037  0.586696   0.373038  0.466696  876.588881"
            ]
          },
          "metadata": {},
          "execution_count": 9
        }
      ]
    },
    {
      "cell_type": "markdown",
      "metadata": {
        "id": "hY9uNOWngVf1"
      },
      "source": [
        "That seems pretty close. The JPQ paper reports NDCG@10 of 0.677, and R@100 of 0.466."
      ]
    },
    {
      "cell_type": "code",
      "metadata": {
        "id": "GeiqtXn4erwR"
      },
      "source": [
        ""
      ],
      "execution_count": 9,
      "outputs": []
    }
  ]
}